{
 "cells": [
  {
   "cell_type": "code",
   "execution_count": 23,
   "metadata": {},
   "outputs": [
    {
     "data": {
      "image/jpeg": "[encoded data removed]",
      "text/plain": [
       "<IPython.core.display.Image object>"
      ]
     },
     "execution_count": 23,
     "metadata": {
      "image/jpeg": {
       "height": 260,
       "width": 400
      }
     },
     "output_type": "execute_result"
    }
   ],
   "source": [
    "from IPython.display import Image\n",
    "Image(filename=\"../data/logo.jpg\",width=400,height=260)"
   ]
  },
  {
   "cell_type": "markdown",
   "metadata": {},
   "source": [
    "# BiaSlayer\n",
    "### Stop bullshit in ML"
   ]
  },
  {
   "cell_type": "markdown",
   "metadata": {},
   "source": [
    "## Introduction\n",
    "Draft : \n",
    "\n",
    "The use of machine learning models has increased tremendously during the past XX, a particular focus has been made on medical application as it can help in predicting certain disease based on XX \n",
    "\n",
    "Unfortunately it is still very much misused as it is often seen as a “black box” where just feeding huge amount of data into your algorithm will later let you put whatever you want and get your wanted prediction. It does not and should not work like that.\n",
    "\n",
    "Here you will explore and see how some bias are typically introduced in the medical field approach to machine learning. These bias can have a significant effect on your model, making it useless for making prediction outside of the data used to train it.\n",
    "\n",
    "\n",
    "*TODO : rewrite + Rappeler les enjeux ML, pourquoi cette plateforme*"
   ]
  },
  {
   "cell_type": "code",
   "execution_count": 24,
   "metadata": {},
   "outputs": [],
   "source": [
    "#Importing some libraries for the notebook\n",
    "import os,cv2,random,time,glob,sys\n",
    "\n",
    "import numpy as np\n",
    "import matplotlib.pyplot as plt\n",
    "import matplotlib.image as mpimg\n",
    "import ipywidgets as widgets\n",
    "\n",
    "from argparse import ArgumentParser\n",
    "from ipywidgets import interact, interact_manual\n",
    "sys.path.append(\"../\")\n",
    "from script_change_images import poisonImage\n",
    "from matplotlib import rcParams"
   ]
  },
  {
   "cell_type": "markdown",
   "metadata": {},
   "source": [
    "## Dataset\n",
    "Here you will work with a public dataset containing chest X-Rays images of healthy patients or suffering from pneumonia.\n",
    "\n",
    "While a trained specialist might be able to differentiate between the two by it’s own eyes we are interested in feeding all of this data into our model for it to learn to discriminate between them as well. In the future we could give it new images and it would predict for us if the patient is suffering from the disease automatically. \n",
    "\n",
    "Sounds great and easy right ? Well it’s a tad more complicated..\n",
    "\n",
    "Here you are invited to take a quick look at the dataset for yourself, would you be able to find the differences between healthy and pneumonia on your own ?\n",
    "\n",
    "If you are interested to know more about the data you can find it [here](https://data.mendeley.com/datasets/9xkhgts2s6/3) or on [Kaggle](https://www.kaggle.com/datasets/artyomkolas/3-kinds-of-pneumonia).\n"
   ]
  },
  {
   "cell_type": "code",
   "execution_count": 25,
   "metadata": {},
   "outputs": [
    {
     "ename": "FileNotFoundError",
     "evalue": "[WinError 2] The system cannot find the file specified: '../data/Curated X-Ray Dataset/'",
     "output_type": "error",
     "traceback": [
      "\u001b[1;31m---------------------------------------------------------------------------\u001b[0m",
      "\u001b[1;31mFileNotFoundError\u001b[0m                         Traceback (most recent call last)",
      "Cell \u001b[1;32mIn [25], line 5\u001b[0m\n\u001b[0;32m      1\u001b[0m \u001b[39m#TODO : resize dataset ????\u001b[39;00m\n\u001b[0;32m      2\u001b[0m \n\u001b[0;32m      3\u001b[0m \u001b[39m#Defining a widget to display the dataset\u001b[39;00m\n\u001b[0;32m      4\u001b[0m \u001b[39m#Going to data\u001b[39;00m\n\u001b[1;32m----> 5\u001b[0m os\u001b[39m.\u001b[39;49mchdir(\u001b[39m\"\u001b[39;49m\u001b[39m../data/Curated X-Ray Dataset/\u001b[39;49m\u001b[39m\"\u001b[39;49m)\n\u001b[0;32m      6\u001b[0m directory \u001b[39m=\u001b[39m widgets\u001b[39m.\u001b[39mDropdown(options\u001b[39m=\u001b[39m[\u001b[39m\"\u001b[39m\u001b[39mNormal\u001b[39m\u001b[39m\"\u001b[39m,\u001b[39m\"\u001b[39m\u001b[39mPneumonia-Bacterial\u001b[39m\u001b[39m\"\u001b[39m,\u001b[39m\"\u001b[39m\u001b[39mPneumonia-Viral\u001b[39m\u001b[39m\"\u001b[39m])\n\u001b[0;32m      7\u001b[0m images \u001b[39m=\u001b[39m widgets\u001b[39m.\u001b[39mDropdown(options\u001b[39m=\u001b[39mos\u001b[39m.\u001b[39mlistdir(directory\u001b[39m.\u001b[39mvalue))\n",
      "\u001b[1;31mFileNotFoundError\u001b[0m: [WinError 2] The system cannot find the file specified: '../data/Curated X-Ray Dataset/'"
     ]
    }
   ],
   "source": [
    "#TODO : resize dataset ????\n",
    "\n",
    "#Defining a widget to display the dataset\n",
    "#Going to data\n",
    "os.chdir(\"../data/Curated X-Ray Dataset/\")\n",
    "directory = widgets.Dropdown(options=[\"Normal\",\"Pneumonia-Bacterial\",\"Pneumonia-Viral\"])\n",
    "images = widgets.Dropdown(options=os.listdir(directory.value))\n",
    "\n",
    "#Updates the image options based on directory value\n",
    "def update_images(*args):\n",
    "    images.options = os.listdir(directory.value)\n",
    "\n",
    "#Tie the image options to directory value\n",
    "directory.observe(update_images, 'value')\n",
    "\n",
    "#Display the images\n",
    "def show_images(fdir, file):\n",
    "    display(Image(f'{fdir}/{file}'))\n",
    "\n",
    "_ = interact(show_images, fdir=directory, file=images)"
   ]
  },
  {
   "cell_type": "markdown",
   "metadata": {},
   "source": [
    "## Choose additional informations\n",
    "\n",
    "In a real world application, doctors might be interested in adding additional information to their imaging results. It might be a patient name as to not forget to which the image belong or the date of the scan, any info that they could use to keep track of their work.\n",
    "\n",
    "Another widely used method is to put an indicator on ill patients radiographies so they can precisely remember their diagnostic and do not need to check multiple times if they forget, which can come particularly handy when the diagnostic is hard to make or when having multiple patients.\n",
    "\n",
    "Here your can choose between different types of modifications that you would like to add to your images ! \n",
    "\n",
    "We encourage you to put a red dot as indicative of the disease as it is one of the most widely spread method.\n",
    "\n"
   ]
  },
  {
   "cell_type": "code",
   "execution_count": 26,
   "metadata": {},
   "outputs": [
    {
     "ename": "FileNotFoundError",
     "evalue": "[WinError 2] The system cannot find the file specified: '../../notebooks'",
     "output_type": "error",
     "traceback": [
      "\u001b[1;31m---------------------------------------------------------------------------\u001b[0m",
      "\u001b[1;31mFileNotFoundError\u001b[0m                         Traceback (most recent call last)",
      "Cell \u001b[1;32mIn [26], line 1\u001b[0m\n\u001b[1;32m----> 1\u001b[0m os\u001b[39m.\u001b[39;49mchdir(\u001b[39m\"\u001b[39;49m\u001b[39m../../notebooks\u001b[39;49m\u001b[39m\"\u001b[39;49m)\n\u001b[0;32m      2\u001b[0m \u001b[39m#Define golbal variable \u001b[39;00m\n\u001b[0;32m      3\u001b[0m DATASET \u001b[39m=\u001b[39m \u001b[39m\"\u001b[39m\u001b[39mRaw\u001b[39m\u001b[39m\"\u001b[39m\n",
      "\u001b[1;31mFileNotFoundError\u001b[0m: [WinError 2] The system cannot find the file specified: '../../notebooks'"
     ]
    }
   ],
   "source": [
    "os.chdir(\"../../notebooks\")\n",
    "#Define golbal variable \n",
    "DATASET = \"Raw\"\n",
    "\n",
    "#Plotting\n",
    "%matplotlib inline\n",
    "#Figure size (in inches)\n",
    "rcParams['figure.figsize'] = 22,16\n",
    "\n",
    "#Get images\n",
    "img_raw = mpimg.imread(\"../data/Diff Poisoning showcase/raw.png\")\n",
    "img_dot = mpimg.imread(\"../data/Diff Poisoning showcase/dot.png\")\n",
    "img_date = mpimg.imread(\"../data/Diff Poisoning showcase/date.jpg\")\n",
    "img_dotdate = mpimg.imread(\"../data/Diff Poisoning showcase/dotdate.jpg\")\n",
    "\n",
    "\n",
    "#Display \n",
    "fig, ax = plt.subplots(1,4)\n",
    "ax[0].imshow(img_raw)\n",
    "ax[1].imshow(img_dot)\n",
    "ax[2].imshow(img_date)\n",
    "ax[3].imshow(img_dotdate)\n",
    "#Set titles \n",
    "ax[0].set_title(\"Raw\")\n",
    "ax[1].set_title(\"Dot\")\n",
    "ax[2].set_title(\"Date\")\n",
    "ax[3].set_title(\"Dot & Date\")\n",
    "#Remove axis\n",
    "ax[0].axis('off')\n",
    "ax[1].axis(\"off\")\n",
    "ax[2].axis('off')\n",
    "ax[3].axis(\"off\")\n",
    "\n",
    "#Define a menu with boutons and display it\n",
    "option = widgets.RadioButtons(\n",
    "    options=[\"Raw\",\"Dot\",\"Date\",\"Dot & Date\"],\n",
    "    description=\"Choose your dataset\",\n",
    "    disabled=False\n",
    ")\n",
    "display(option)\n"
   ]
  },
  {
   "cell_type": "code",
   "execution_count": null,
   "metadata": {},
   "outputs": [
    {
     "data": {
      "text/plain": [
       "'Raw'"
      ]
     },
     "execution_count": 18,
     "metadata": {},
     "output_type": "execute_result"
    }
   ],
   "source": [
    "#Variable as to which dataset they choose\n",
    "DATASET=option.value\n",
    "DATASET"
   ]
  },
  {
   "cell_type": "markdown",
   "metadata": {},
   "source": [
    "## Model & Training\n",
    "Now, without going too much into the details, you are going to feed your modified dataset to a machine learning algorithm. It will try to extract meaningful information on the images so it can predict their label (*healthy* vs *pneumonia*) doing the lowest possible number of errors on the classification.\n",
    "\n",
    "Your model will be trained on a certain amount of your data, looking at the images and their label. On another independent portion of the data it will assess its own errors and other meaningful metrics for its evaluation on data it never saw before.\n"
   ]
  },
  {
   "cell_type": "code",
   "execution_count": null,
   "metadata": {},
   "outputs": [],
   "source": [
    "#TODO add model and (fake?) loading bar"
   ]
  },
  {
   "cell_type": "markdown",
   "metadata": {},
   "source": [
    "Now that your model is well trained we can feed new images to it and it will predict if the patient is ill or not.\n",
    "\n",
    "Let's dive in and see how you did !\n"
   ]
  },
  {
   "cell_type": "markdown",
   "metadata": {},
   "source": [
    "## Results \n",
    "Mhhh this seems weird… ?\n",
    "\n",
    "Your model did really well when assessing its error on the dataset he was trained on but when you give it new images it seems to over predict “healthy” patients, giving you way too many false negatives.\n",
    "\n",
    "What happened here exactly ? Is the problem coming from your model ? It’s actually coming from your data.\n"
   ]
  },
  {
   "cell_type": "markdown",
   "metadata": {},
   "source": [
    "## Label leakage\n",
    "In machine learning, leakage happens when the information you want to extract (here the information **healthy** vs **pneumonia**) (un)expectedly leak from your data at the time of the model training. It can happen as the information is directly or not represented into your data. \n",
    "\n",
    "Here instead of extracting meaningful features on the thoracic cage and lungs that could help the model discriminate between the two types of images, it focused on the red dot placed by doctors as it was the most differentiable feature between the labels, betraying the **pneumonia** one.\n",
    "\n",
    "This result in models that perform very well when later checking their accuracy on your data but generalize poorly to other datasets (more on that later).\n",
    "\n",
    "Now for the date, imagine that the diseased patients are taken up to a different hospital, the doctors here usually put the date on top of their images contrary to the other hospital for healthy patients. Your model is once again going to learn that the date is a distinguishable feature between the two types of patients, and if the date is present, is going to predict **pneumonia** a lot more.\n",
    "\n",
    "Even if the date is present on all the pictures it can still be biased by an epidemy period where a lot more patients where ill, trying to predict an image from this period has a lot more chance to predict ill even to healthy patients.\n",
    "\n",
    "\n",
    ">Always try to keep your data clean.\n",
    "\n",
    ">While it’s a good practice to validate your model on a **train** set which is a portion of **your** data **not used** during training, it is even better to use a **validation** set which is a completely fresh one from new measures.\n",
    "Your data might be poisoned and this is exactly what happened here. Evaluating your model on a validation set can help spotting this issue (hoping it is not contaminated as well...).\n",
    "\n",
    "**TODO : + sources**"
   ]
  },
  {
   "cell_type": "code",
   "execution_count": null,
   "metadata": {},
   "outputs": [],
   "source": [
    "#TODO : GRADCAM"
   ]
  },
  {
   "cell_type": "markdown",
   "metadata": {},
   "source": [
    "## Removing the leaks\n",
    "Now that you realized the label leakage of your dataset and acknowledged the problems it causes, you may want to get rid of it *obviously*. \n",
    "\n",
    "Let’s call your professional image editor friend and ask them to remove unnecessary information on your pictures so you can train your model again on a freshly cleaned dataset.\n",
    "\n",
    "It seems they did a really good job ! Look at it you cannot even see the dot on this pictures anymore.\n",
    "Let’s get back to business.\n",
    "\n",
    "\n"
   ]
  },
  {
   "cell_type": "code",
   "execution_count": null,
   "metadata": {},
   "outputs": [],
   "source": [
    "#TODO unpoison and show"
   ]
  },
  {
   "cell_type": "markdown",
   "metadata": {},
   "source": [
    "What ???\n",
    "\n",
    " Results are more or less the same how could that be ? Maybe you feed the old/wrong data to your algorithm ? Can’t be you’re too good for that. \n",
    "\n",
    "Maybe your model is actually hopeless ? Not sure.\n",
    "\n",
    "Actually it’s more subtle than that. You see, your “professional” image editor friend wasn’t so pro after all and mistakenly did not erased the red dot correctly. It’s not visible with the naked eye but that computer absolutely picked up that difference in color by 0.40% on the bottom right corner of your images of ill patients.\n",
    "\n",
    ">**Label leakage isn’t always visible at a first glance. Keep in mind to always think ahead of what could betray the label of your image.**"
   ]
  },
  {
   "cell_type": "markdown",
   "metadata": {},
   "source": [
    "## Predicting the disease\n",
    "\n",
    "Now that your model is label leak free let’s try to input some new images into it and see how it does for real.\n",
    "\n",
    "You can see that your model perform quite well congratulations !!\n",
    "\n",
    "But let’s spice things up one more time, what if we use completely different patients ? Let’s take some children X-Ray scans and try to predict if they are ill or not.\n",
    "\n",
    "\n"
   ]
  },
  {
   "cell_type": "markdown",
   "metadata": {},
   "source": [
    "(Un)surprisingly your model once again perform worse… But why is that ?\n",
    "\n",
    "What happened this time ?\n",
    "\n",
    "> Take some time to think about it.\n",
    "\n",
    "When a machine learning algorithm is trained on data coming from a specific population it can generalize poorly to others. Here your model was trained on data coming from adults, but children have a whole different body structure !\n",
    "Your model loose the ability to find some features it finds in the images on adult thus losing in accuracy.\n",
    "\n",
    ">**Always think about who/what your model is going to apply to and train it in consequences. If you need to study a specific population then train on this one for maximum precision, if instead you want a more generalized algorithm keep in mind to represent everyone during your training.**"
   ]
  },
  {
   "cell_type": "markdown",
   "metadata": {},
   "source": [
    "## Conclusion\n",
    "**TODO**"
   ]
  }
 ],
 "metadata": {
  "kernelspec": {
   "display_name": "Python 3.9.1 64-bit",
   "language": "python",
   "name": "python3"
  },
  "language_info": {
   "codemirror_mode": {
    "name": "ipython",
    "version": 3
   },
   "file_extension": ".py",
   "mimetype": "text/x-python",
   "name": "python",
   "nbconvert_exporter": "python",
   "pygments_lexer": "ipython3",
   "version": "3.9.1"
  },
  "orig_nbformat": 4,
  "vscode": {
   "interpreter": {
    "hash": "81794d4967e6c3204c66dcd87b604927b115b27c00565d3d43f05ba2f3a2cb0d"
   }
  }
 },
 "nbformat": 4,
 "nbformat_minor": 2
}

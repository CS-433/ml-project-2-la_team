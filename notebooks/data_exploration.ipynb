{
 "cells": [
  {
   "cell_type": "markdown",
   "metadata": {
    "id": "ReHmm2eb9psq"
   },
   "source": [
    "# Data exploration\n",
    "This notebooks provides tools to explore the datasets at hand. It can be useful to detect potential bias in data.  \n",
    "In this example, we clearly see that the normal and pneumonia images don't have\n",
    "the same width/height ratio distribution.  This suggests that the model\n",
    "can overfit the \"bands\" added when resizing an image to a square."
   ]
  },
  {
   "cell_type": "code",
   "execution_count": 1,
   "metadata": {
    "id": "nAfjpq8bAGfa",
    "executionInfo": {
     "status": "ok",
     "timestamp": 1671378279665,
     "user_tz": -60,
     "elapsed": 3863,
     "user": {
      "displayName": "Colin Pelletier",
      "userId": "14380010107172900998"
     }
    }
   },
   "outputs": [],
   "source": [
    "import numpy as np\n",
    "import pandas as pd\n",
    "import os\n",
    "import cv2\n",
    "import json\n",
    "\n",
    "import tensorflow as tf\n",
    "\n",
    "from google.colab import drive\n",
    "from tqdm import tqdm\n",
    "import matplotlib.pyplot as plt\n",
    "import sys"
   ]
  },
  {
   "cell_type": "code",
   "execution_count": 2,
   "metadata": {
    "id": "qWPDlFQWAG7p",
    "executionInfo": {
     "status": "ok",
     "timestamp": 1671378279668,
     "user_tz": -60,
     "elapsed": 10,
     "user": {
      "displayName": "Colin Pelletier",
      "userId": "14380010107172900998"
     }
    }
   },
   "outputs": [],
   "source": [
    "DATA_FOLDER = \"./drive/MyDrive/ml-project-2-la_team/data/\"\n",
    "NORMAL_FOLDER = DATA_FOLDER + \"Normal_original/\"\n",
    "PNEUMONIA_FOLDER = DATA_FOLDER + \"Pneumonia_original/\"\n",
    "IMAGES_EXT = \".jpeg\"\n",
    "\n",
    "OUTPUT_FOLDER = \"./drive/MyDrive/ml-project-2-la_team/generated/data_exploration/\"\n",
    "\n",
    "AUTOTUNE = tf.data.experimental.AUTOTUNE\n",
    "\n",
    "IMAGE_SIZE = [180, 180]"
   ]
  },
  {
   "cell_type": "code",
   "execution_count": 3,
   "metadata": {
    "colab": {
     "base_uri": "https://localhost:8080/"
    },
    "executionInfo": {
     "elapsed": 1982,
     "status": "ok",
     "timestamp": 1671378281641,
     "user": {
      "displayName": "Colin Pelletier",
      "userId": "14380010107172900998"
     },
     "user_tz": -60
    },
    "id": "f6nkRTdzAEGz",
    "outputId": "5b471390-e8db-49f6-dfdb-9761cf879d6d"
   },
   "outputs": [
    {
     "output_type": "stream",
     "name": "stdout",
     "text": [
      "Drive already mounted at /content/drive; to attempt to forcibly remount, call drive.mount(\"/content/drive\", force_remount=True).\n"
     ]
    }
   ],
   "source": [
    "# mount google drive\n",
    "drive.mount(\"/content/drive\")\n",
    "\n",
    "sys.path.append(\"./drive/MyDrive/ml-project-2-la_team/src/\")  # TODO change it\n",
    "\n",
    "import pipeline_tools as pip_tools\n",
    "import model_tools as model_tools"
   ]
  },
  {
   "cell_type": "markdown",
   "metadata": {
    "id": "7QCuAk3t-Khj"
   },
   "source": [
    "# Load images filenames"
   ]
  },
  {
   "cell_type": "code",
   "execution_count": 4,
   "metadata": {
    "id": "CnraRBmeBT80",
    "executionInfo": {
     "status": "ok",
     "timestamp": 1671378286236,
     "user_tz": -60,
     "elapsed": 4598,
     "user": {
      "displayName": "Colin Pelletier",
      "userId": "14380010107172900998"
     }
    }
   },
   "outputs": [],
   "source": [
    "# /!\\ to analyze only the train or test set, change the assignment of\n",
    "# normal_img_names and pneumonia_img_names /!\\\n",
    "\n",
    "pneumonia_type = \"\"  # '' for all, 'bacteria*' for bacterial and 'virus*' for viral\n",
    "\n",
    "filenames_normal_train = tf.io.gfile.glob(NORMAL_FOLDER + \"train/*\" + IMAGES_EXT)\n",
    "filenames_normal_test = tf.io.gfile.glob(NORMAL_FOLDER + \"test/*\" + IMAGES_EXT)\n",
    "normal_img_names = filenames_normal_train + filenames_normal_test\n",
    "\n",
    "filenames_pneumonia_train = tf.io.gfile.glob(\n",
    "    PNEUMONIA_FOLDER + \"train/*\" + pneumonia_type + IMAGES_EXT\n",
    ")\n",
    "filenames_pneumonia_test = tf.io.gfile.glob(\n",
    "    PNEUMONIA_FOLDER + \"test/*\" + pneumonia_type + IMAGES_EXT\n",
    ")\n",
    "pneumonia_img_names = filenames_pneumonia_train + filenames_pneumonia_test"
   ]
  },
  {
   "cell_type": "code",
   "execution_count": 5,
   "metadata": {
    "colab": {
     "base_uri": "https://localhost:8080/"
    },
    "executionInfo": {
     "elapsed": 7,
     "status": "ok",
     "timestamp": 1671378286237,
     "user": {
      "displayName": "Colin Pelletier",
      "userId": "14380010107172900998"
     },
     "user_tz": -60
    },
    "id": "ezMTFFtDE3Ju",
    "outputId": "a361c88b-ba40-4735-f238-6e13da83d2dd"
   },
   "outputs": [
    {
     "output_type": "stream",
     "name": "stdout",
     "text": [
      "# of normal images: 1583\n",
      "# of pneumonia images: 4273\n"
     ]
    }
   ],
   "source": [
    "print(\"# of normal images: {}\".format(len(normal_img_names)))\n",
    "print(\"# of pneumonia images: {}\".format(len(pneumonia_img_names)))"
   ]
  },
  {
   "cell_type": "markdown",
   "metadata": {
    "id": "snCwybqSFPbe"
   },
   "source": [
    "# Get images from filenames\n",
    "Labels: 1 (True) for pneumonia, 0 (False) for normal"
   ]
  },
  {
   "cell_type": "code",
   "execution_count": 6,
   "metadata": {
    "id": "VLXJhNigFr-x",
    "executionInfo": {
     "status": "ok",
     "timestamp": 1671378286602,
     "user_tz": -60,
     "elapsed": 370,
     "user": {
      "displayName": "Colin Pelletier",
      "userId": "14380010107172900998"
     }
    }
   },
   "outputs": [],
   "source": [
    "normal_list_ds = tf.data.Dataset.from_tensor_slices(normal_img_names)\n",
    "pneumonia_list_ds = tf.data.Dataset.from_tensor_slices(pneumonia_img_names)"
   ]
  },
  {
   "cell_type": "code",
   "execution_count": 10,
   "metadata": {
    "id": "Y1JweTTqF0c8",
    "executionInfo": {
     "status": "ok",
     "timestamp": 1671378302076,
     "user_tz": -60,
     "elapsed": 579,
     "user": {
      "displayName": "Colin Pelletier",
      "userId": "14380010107172900998"
     }
    }
   },
   "outputs": [],
   "source": [
    "# Load images from filenames\n",
    "im_tools = pip_tools.ImageTools(\n",
    "    IMAGE_SIZE, AUTOTUNE, \"Normal_original\", resize_image=False\n",
    ")\n",
    "\n",
    "normal_ds = im_tools.load_images_from_filenames(normal_list_ds)\n",
    "pneumonia_ds = im_tools.load_images_from_filenames(pneumonia_list_ds)"
   ]
  },
  {
   "cell_type": "code",
   "execution_count": 11,
   "metadata": {
    "colab": {
     "base_uri": "https://localhost:8080/"
    },
    "executionInfo": {
     "elapsed": 920,
     "status": "ok",
     "timestamp": 1671378302993,
     "user": {
      "displayName": "Colin Pelletier",
      "userId": "14380010107172900998"
     },
     "user_tz": -60
    },
    "id": "7o2Moap7G1wH",
    "outputId": "263d6ba6-f066-4e11-a6fa-1f9a301249c0"
   },
   "outputs": [
    {
     "output_type": "stream",
     "name": "stdout",
     "text": [
      "Image shape:  (1353, 1882, 3)\n",
      "Label:  False\n",
      "Image shape:  (1600, 1626, 3)\n",
      "Label:  False\n",
      "Image shape:  (680, 1232, 3)\n",
      "Label:  True\n",
      "Image shape:  (736, 920, 3)\n",
      "Label:  True\n"
     ]
    }
   ],
   "source": [
    "for image, label in normal_ds.take(2):\n",
    "    print(\"Image shape: \", image.numpy().shape)\n",
    "    print(\"Label: \", label.numpy())\n",
    "\n",
    "for image, label in pneumonia_ds.take(2):\n",
    "    print(\"Image shape: \", image.numpy().shape)\n",
    "    print(\"Label: \", label.numpy())"
   ]
  },
  {
   "cell_type": "code",
   "execution_count": 8,
   "metadata": {
    "colab": {
     "base_uri": "https://localhost:8080/",
     "height": 931
    },
    "id": "VeC_RujGHKkb",
    "executionInfo": {
     "status": "error",
     "timestamp": 1671378290528,
     "user_tz": -60,
     "elapsed": 3338,
     "user": {
      "displayName": "Colin Pelletier",
      "userId": "14380010107172900998"
     }
    },
    "outputId": "95a88b5e-c52a-4112-c11d-942412488aae"
   },
   "outputs": [
    {
     "output_type": "stream",
     "name": "stdout",
     "text": [
      "Iterate over normal values\n",
      "0\n"
     ]
    },
    {
     "output_type": "stream",
     "name": "stderr",
     "text": [
      "ERROR:root:Internal Python error in the inspect module.\n",
      "Below is the traceback from this internal error.\n",
      "\n"
     ]
    },
    {
     "output_type": "stream",
     "name": "stdout",
     "text": [
      "Traceback (most recent call last):\n",
      "  File \"/usr/local/lib/python3.8/dist-packages/IPython/core/interactiveshell.py\", line 3326, in run_code\n",
      "    exec(code_obj, self.user_global_ns, self.user_ns)\n",
      "  File \"<ipython-input-8-c24c5816c2eb>\", line 9, in <module>\n",
      "    for image, _ in normal_ds.as_numpy_iterator():\n",
      "  File \"/usr/local/lib/python3.8/dist-packages/tensorflow/python/data/ops/dataset_ops.py\", line 4478, in __next__\n",
      "    return nest.map_structure(to_numpy, next(self._iterator))\n",
      "  File \"/usr/local/lib/python3.8/dist-packages/tensorflow/python/data/ops/iterator_ops.py\", line 766, in __next__\n",
      "    return self._next_internal()\n",
      "  File \"/usr/local/lib/python3.8/dist-packages/tensorflow/python/data/ops/iterator_ops.py\", line 749, in _next_internal\n",
      "    ret = gen_dataset_ops.iterator_get_next(\n",
      "  File \"/usr/local/lib/python3.8/dist-packages/tensorflow/python/ops/gen_dataset_ops.py\", line 3012, in iterator_get_next\n",
      "    _result = pywrap_tfe.TFE_Py_FastPathExecute(\n",
      "KeyboardInterrupt\n",
      "\n",
      "During handling of the above exception, another exception occurred:\n",
      "\n",
      "Traceback (most recent call last):\n",
      "  File \"/usr/local/lib/python3.8/dist-packages/IPython/core/interactiveshell.py\", line 2040, in showtraceback\n",
      "    stb = value._render_traceback_()\n",
      "AttributeError: 'KeyboardInterrupt' object has no attribute '_render_traceback_'\n",
      "\n",
      "During handling of the above exception, another exception occurred:\n",
      "\n",
      "Traceback (most recent call last):\n",
      "  File \"/usr/local/lib/python3.8/dist-packages/IPython/core/ultratb.py\", line 1101, in get_records\n",
      "    return _fixed_getinnerframes(etb, number_of_lines_of_context, tb_offset)\n",
      "  File \"/usr/local/lib/python3.8/dist-packages/IPython/core/ultratb.py\", line 319, in wrapped\n",
      "    return f(*args, **kwargs)\n",
      "  File \"/usr/local/lib/python3.8/dist-packages/IPython/core/ultratb.py\", line 353, in _fixed_getinnerframes\n",
      "    records = fix_frame_records_filenames(inspect.getinnerframes(etb, context))\n",
      "  File \"/usr/lib/python3.8/inspect.py\", line 1515, in getinnerframes\n",
      "    frameinfo = (tb.tb_frame,) + getframeinfo(tb, context)\n",
      "  File \"/usr/lib/python3.8/inspect.py\", line 1473, in getframeinfo\n",
      "    filename = getsourcefile(frame) or getfile(frame)\n",
      "  File \"/usr/lib/python3.8/inspect.py\", line 708, in getsourcefile\n",
      "    if getattr(getmodule(object, filename), '__loader__', None) is not None:\n",
      "  File \"/usr/lib/python3.8/inspect.py\", line 754, in getmodule\n",
      "    os.path.realpath(f)] = module.__name__\n",
      "  File \"/usr/lib/python3.8/posixpath.py\", line 391, in realpath\n",
      "    path, ok = _joinrealpath(filename[:0], filename, {})\n",
      "  File \"/usr/lib/python3.8/posixpath.py\", line 424, in _joinrealpath\n",
      "    newpath = join(path, name)\n",
      "KeyboardInterrupt\n"
     ]
    },
    {
     "output_type": "error",
     "ename": "KeyboardInterrupt",
     "evalue": "ignored",
     "traceback": [
      "\u001b[0;31m---------------------------------------------------------------------------\u001b[0m"
     ]
    }
   ],
   "source": [
    "# Iterate through all files to get image shapes.\n",
    "# To save time, you can just load the generated txt files with the cell below\n",
    "generate_shapes = True\n",
    "\n",
    "if generate_shapes:\n",
    "    normal_img_shapes = []\n",
    "    print(\"Iterate over normal values\")\n",
    "    val = 0\n",
    "    for image, _ in normal_ds.as_numpy_iterator():\n",
    "        if val % 100 == 0:\n",
    "            print(val)\n",
    "        normal_img_shapes.append(image.shape)\n",
    "        val += 1\n",
    "\n",
    "    pneumonia_img_shapes = []\n",
    "    print(\"Iterate over pn values\")\n",
    "    val = 0\n",
    "    for image, _ in pneumonia_ds.as_numpy_iterator():\n",
    "        if val % 100 == 0:\n",
    "            print(val)\n",
    "        pneumonia_img_shapes.append(image.shape)\n",
    "        val += 1\n",
    "\n",
    "    assert len(normal_img_shapes) == len(normal_img_names)\n",
    "    assert len(pneumonia_img_shapes) == len(pneumonia_img_names)\n",
    "\n",
    "    # write to txt files to reuse later\n",
    "    normal_img_dict = {}\n",
    "    for i, img_name in enumerate(normal_img_names):\n",
    "        normal_img_dict[img_name] = normal_img_shapes[i]\n",
    "\n",
    "    pneumonia_img_dict = {}\n",
    "    for i, img_name in enumerate(pneumonia_img_names):\n",
    "        pneumonia_img_dict[img_name] = pneumonia_img_shapes[i]\n",
    "\n",
    "    with open(\n",
    "        OUTPUT_FOLDER + \"normal_img_shapes.txt\", \"w\", encoding=\"utf-8\"\n",
    "    ) as normal_file:\n",
    "        json.dump(normal_img_dict, normal_file)\n",
    "\n",
    "    with open(\n",
    "        OUTPUT_FOLDER + \"pneumonia_img_shapes.txt\", \"w\", encoding=\"utf-8\"\n",
    "    ) as pneumonia_file:\n",
    "        json.dump(pneumonia_img_dict, pneumonia_file)"
   ]
  },
  {
   "cell_type": "code",
   "execution_count": null,
   "metadata": {
    "colab": {
     "background_save": true
    },
    "id": "UUJWuuHtM0Yg"
   },
   "outputs": [],
   "source": [
    "if not generate_shapes:\n",
    "    # Use this cell if the shapes have already been generated\n",
    "    with open(\n",
    "        OUTPUT_FOLDER + \"normal_img_shapes.txt\", \"r\", encoding=\"utf-8\"\n",
    "    ) as normal_file:\n",
    "        normal_img_dict = json.load(normal_file)\n",
    "\n",
    "    with open(\n",
    "        OUTPUT_FOLDER + \"pneumonia_img_shapes.txt\", \"r\", encoding=\"utf-8\"\n",
    "    ) as pneumonia_file:\n",
    "        pneumonia_img_dict = json.load(pneumonia_file)"
   ]
  },
  {
   "cell_type": "code",
   "execution_count": null,
   "metadata": {
    "colab": {
     "background_save": true
    },
    "id": "-wUr3NTDO94e",
    "outputId": "d4971f7c-ac02-4817-e4ad-5c2af7556db4"
   },
   "outputs": [
    {
     "ename": "IndexError",
     "evalue": "ignored",
     "output_type": "error",
     "traceback": [
      "\u001b[0;31m---------------------------------------------------------------------------\u001b[0m",
      "\u001b[0;31mIndexError\u001b[0m                                Traceback (most recent call last)",
      "\u001b[0;32m<ipython-input-11-f88961a3a1d4>\u001b[0m in \u001b[0;36m<module>\u001b[0;34m\u001b[0m\n\u001b[1;32m     12\u001b[0m     \u001b[0;32mreturn\u001b[0m \u001b[0mdf\u001b[0m\u001b[0;34m\u001b[0m\u001b[0;34m\u001b[0m\u001b[0m\n\u001b[1;32m     13\u001b[0m \u001b[0;34m\u001b[0m\u001b[0m\n\u001b[0;32m---> 14\u001b[0;31m \u001b[0mnormal_df\u001b[0m \u001b[0;34m=\u001b[0m \u001b[0mconvert_dict_to_df\u001b[0m\u001b[0;34m(\u001b[0m\u001b[0mnormal_img_dict\u001b[0m\u001b[0;34m)\u001b[0m\u001b[0;34m\u001b[0m\u001b[0;34m\u001b[0m\u001b[0m\n\u001b[0m\u001b[1;32m     15\u001b[0m \u001b[0mnormal_df\u001b[0m\u001b[0;34m.\u001b[0m\u001b[0mhead\u001b[0m\u001b[0;34m(\u001b[0m\u001b[0;34m)\u001b[0m\u001b[0;34m\u001b[0m\u001b[0;34m\u001b[0m\u001b[0m\n",
      "\u001b[0;32m<ipython-input-11-f88961a3a1d4>\u001b[0m in \u001b[0;36mconvert_dict_to_df\u001b[0;34m(img_dict)\u001b[0m\n\u001b[1;32m      6\u001b[0m \u001b[0;34m\u001b[0m\u001b[0m\n\u001b[1;32m      7\u001b[0m     \u001b[0mdf\u001b[0m \u001b[0;34m=\u001b[0m \u001b[0mpd\u001b[0m\u001b[0;34m.\u001b[0m\u001b[0mDataFrame\u001b[0m\u001b[0;34m(\u001b[0m\u001b[0mimg_dict\u001b[0m\u001b[0;34m)\u001b[0m\u001b[0;34m\u001b[0m\u001b[0;34m\u001b[0m\u001b[0m\n\u001b[0;32m----> 8\u001b[0;31m     \u001b[0mdf\u001b[0m\u001b[0;34m.\u001b[0m\u001b[0mcolumns\u001b[0m \u001b[0;34m=\u001b[0m \u001b[0mdf\u001b[0m\u001b[0;34m.\u001b[0m\u001b[0mcolumns\u001b[0m\u001b[0;34m.\u001b[0m\u001b[0mmap\u001b[0m\u001b[0;34m(\u001b[0m\u001b[0mextract_img_id\u001b[0m\u001b[0;34m)\u001b[0m\u001b[0;34m\u001b[0m\u001b[0;34m\u001b[0m\u001b[0m\n\u001b[0m\u001b[1;32m      9\u001b[0m     \u001b[0mdf\u001b[0m \u001b[0;34m=\u001b[0m \u001b[0mdf\u001b[0m\u001b[0;34m.\u001b[0m\u001b[0mT\u001b[0m\u001b[0;34m\u001b[0m\u001b[0;34m\u001b[0m\u001b[0m\n\u001b[1;32m     10\u001b[0m     \u001b[0mdf\u001b[0m\u001b[0;34m.\u001b[0m\u001b[0mcolumns\u001b[0m \u001b[0;34m=\u001b[0m \u001b[0;34m[\u001b[0m\u001b[0;34m'H'\u001b[0m\u001b[0;34m,\u001b[0m \u001b[0;34m'W'\u001b[0m\u001b[0;34m,\u001b[0m \u001b[0;34m'C'\u001b[0m\u001b[0;34m]\u001b[0m \u001b[0;31m# height, width, # channels\u001b[0m\u001b[0;34m\u001b[0m\u001b[0;34m\u001b[0m\u001b[0m\n",
      "\u001b[0;32m/usr/local/lib/python3.8/dist-packages/pandas/core/indexes/base.py\u001b[0m in \u001b[0;36mmap\u001b[0;34m(self, mapper, na_action)\u001b[0m\n\u001b[1;32m   5504\u001b[0m         \u001b[0;32mfrom\u001b[0m \u001b[0mpandas\u001b[0m\u001b[0;34m.\u001b[0m\u001b[0mcore\u001b[0m\u001b[0;34m.\u001b[0m\u001b[0mindexes\u001b[0m\u001b[0;34m.\u001b[0m\u001b[0mmulti\u001b[0m \u001b[0;32mimport\u001b[0m \u001b[0mMultiIndex\u001b[0m\u001b[0;34m\u001b[0m\u001b[0;34m\u001b[0m\u001b[0m\n\u001b[1;32m   5505\u001b[0m \u001b[0;34m\u001b[0m\u001b[0m\n\u001b[0;32m-> 5506\u001b[0;31m         \u001b[0mnew_values\u001b[0m \u001b[0;34m=\u001b[0m \u001b[0mself\u001b[0m\u001b[0;34m.\u001b[0m\u001b[0m_map_values\u001b[0m\u001b[0;34m(\u001b[0m\u001b[0mmapper\u001b[0m\u001b[0;34m,\u001b[0m \u001b[0mna_action\u001b[0m\u001b[0;34m=\u001b[0m\u001b[0mna_action\u001b[0m\u001b[0;34m)\u001b[0m\u001b[0;34m\u001b[0m\u001b[0;34m\u001b[0m\u001b[0m\n\u001b[0m\u001b[1;32m   5507\u001b[0m \u001b[0;34m\u001b[0m\u001b[0m\n\u001b[1;32m   5508\u001b[0m         \u001b[0mattributes\u001b[0m \u001b[0;34m=\u001b[0m \u001b[0mself\u001b[0m\u001b[0;34m.\u001b[0m\u001b[0m_get_attributes_dict\u001b[0m\u001b[0;34m(\u001b[0m\u001b[0;34m)\u001b[0m\u001b[0;34m\u001b[0m\u001b[0;34m\u001b[0m\u001b[0m\n",
      "\u001b[0;32m/usr/local/lib/python3.8/dist-packages/pandas/core/base.py\u001b[0m in \u001b[0;36m_map_values\u001b[0;34m(self, mapper, na_action)\u001b[0m\n\u001b[1;32m    868\u001b[0m \u001b[0;34m\u001b[0m\u001b[0m\n\u001b[1;32m    869\u001b[0m         \u001b[0;31m# mapper is a function\u001b[0m\u001b[0;34m\u001b[0m\u001b[0;34m\u001b[0m\u001b[0;34m\u001b[0m\u001b[0m\n\u001b[0;32m--> 870\u001b[0;31m         \u001b[0mnew_values\u001b[0m \u001b[0;34m=\u001b[0m \u001b[0mmap_f\u001b[0m\u001b[0;34m(\u001b[0m\u001b[0mvalues\u001b[0m\u001b[0;34m,\u001b[0m \u001b[0mmapper\u001b[0m\u001b[0;34m)\u001b[0m\u001b[0;34m\u001b[0m\u001b[0;34m\u001b[0m\u001b[0m\n\u001b[0m\u001b[1;32m    871\u001b[0m \u001b[0;34m\u001b[0m\u001b[0m\n\u001b[1;32m    872\u001b[0m         \u001b[0;32mreturn\u001b[0m \u001b[0mnew_values\u001b[0m\u001b[0;34m\u001b[0m\u001b[0;34m\u001b[0m\u001b[0m\n",
      "\u001b[0;32m/usr/local/lib/python3.8/dist-packages/pandas/_libs/lib.pyx\u001b[0m in \u001b[0;36mpandas._libs.lib.map_infer\u001b[0;34m()\u001b[0m\n",
      "\u001b[0;32m<ipython-input-11-f88961a3a1d4>\u001b[0m in \u001b[0;36mextract_img_id\u001b[0;34m(image_filename)\u001b[0m\n\u001b[1;32m      2\u001b[0m     \u001b[0;32mdef\u001b[0m \u001b[0mextract_img_id\u001b[0m\u001b[0;34m(\u001b[0m\u001b[0mimage_filename\u001b[0m\u001b[0;34m)\u001b[0m\u001b[0;34m:\u001b[0m\u001b[0;34m\u001b[0m\u001b[0;34m\u001b[0m\u001b[0m\n\u001b[1;32m      3\u001b[0m         \u001b[0mimg_name\u001b[0m \u001b[0;34m=\u001b[0m \u001b[0mimage_filename\u001b[0m\u001b[0;34m.\u001b[0m\u001b[0msplit\u001b[0m\u001b[0;34m(\u001b[0m\u001b[0;34m'/'\u001b[0m\u001b[0;34m)\u001b[0m\u001b[0;34m[\u001b[0m\u001b[0;34m-\u001b[0m\u001b[0;36m1\u001b[0m\u001b[0;34m]\u001b[0m\u001b[0;34m\u001b[0m\u001b[0;34m\u001b[0m\u001b[0m\n\u001b[0;32m----> 4\u001b[0;31m         \u001b[0;32mreturn\u001b[0m \u001b[0mint\u001b[0m\u001b[0;34m(\u001b[0m\u001b[0mimg_name\u001b[0m\u001b[0;34m.\u001b[0m\u001b[0msplit\u001b[0m\u001b[0;34m(\u001b[0m\u001b[0;34m'('\u001b[0m\u001b[0;34m)\u001b[0m\u001b[0;34m[\u001b[0m\u001b[0;36m1\u001b[0m\u001b[0;34m]\u001b[0m\u001b[0;34m.\u001b[0m\u001b[0msplit\u001b[0m\u001b[0;34m(\u001b[0m\u001b[0;34m')'\u001b[0m\u001b[0;34m)\u001b[0m\u001b[0;34m[\u001b[0m\u001b[0;36m0\u001b[0m\u001b[0;34m]\u001b[0m\u001b[0;34m)\u001b[0m\u001b[0;34m\u001b[0m\u001b[0;34m\u001b[0m\u001b[0m\n\u001b[0m\u001b[1;32m      5\u001b[0m \u001b[0;34m\u001b[0m\u001b[0m\n\u001b[1;32m      6\u001b[0m \u001b[0;34m\u001b[0m\u001b[0m\n",
      "\u001b[0;31mIndexError\u001b[0m: list index out of range"
     ]
    }
   ],
   "source": [
    "def convert_dict_to_df(img_dict):\n",
    "    def extract_img_id(image_filename):\n",
    "        img_name = image_filename.split(\"/\")[-1]\n",
    "        return int(img_name.split(\"(\")[1].split(\")\")[0])\n",
    "\n",
    "    df = pd.DataFrame(img_dict)\n",
    "    df.columns = df.columns.map(extract_img_id)\n",
    "    df = df.T\n",
    "    df.columns = [\"H\", \"W\", \"C\"]  # height, width, # channels\n",
    "    df[\"W_H_ratio\"] = df[\"W\"] / df[\"H\"]\n",
    "    return df\n",
    "\n",
    "\n",
    "normal_df = convert_dict_to_df(normal_img_dict)\n",
    "normal_df.head()"
   ]
  },
  {
   "cell_type": "code",
   "execution_count": null,
   "metadata": {
    "colab": {
     "background_save": true
    },
    "id": "A0B4B_wHPJuf"
   },
   "outputs": [],
   "source": [
    "pn_df = convert_dict_to_df(pneumonia_img_dict)\n",
    "pn_df.head()"
   ]
  },
  {
   "cell_type": "code",
   "execution_count": null,
   "metadata": {
    "colab": {
     "background_save": true
    },
    "id": "qlIiCMVyRWrJ"
   },
   "outputs": [],
   "source": [
    "fig, ax = plt.subplots(1, 2, sharex=True, figsize=(20, 8), log=True)\n",
    "nb_bins = 100\n",
    "\n",
    "ax[0].hist(normal_df[\"W_H_ratio\"], bins=nb_bins)\n",
    "ax[0].set_title(\"Normal x-rays\")\n",
    "ax[0].set_xlabel(\"Ratio\")\n",
    "ax[0].set_ylabel(\"Count\")\n",
    "\n",
    "ax[1].hist(pn_df[\"W_H_ratio\"], bins=nb_bins)\n",
    "ax[1].set_title(\"Pneumonia x-rays\")\n",
    "ax[1].set_xlabel(\"Ratio\")\n",
    "\n",
    "plt.suptitle(\"Ratio Width / Height distribution over both classes\")\n",
    "plt.show()"
   ]
  },
  {
   "cell_type": "code",
   "execution_count": null,
   "metadata": {
    "colab": {
     "background_save": true
    },
    "id": "95COpEO7fj2_"
   },
   "outputs": [],
   "source": []
  }
 ],
 "metadata": {
  "colab": {
   "provenance": [],
   "authorship_tag": "ABX9TyMhEKuYlpToQACm5vvIDv22"
  },
  "gpuClass": "standard",
  "kernelspec": {
   "display_name": "Python 3",
   "name": "python3"
  },
  "language_info": {
   "name": "python"
  }
 },
 "nbformat": 4,
 "nbformat_minor": 0
}